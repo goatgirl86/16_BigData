{
  "nbformat": 4,
  "nbformat_minor": 0,
  "metadata": {
    "colab": {
      "name": "Vine_Analysis_Colab.ipynb",
      "provenance": [],
      "collapsed_sections": []
    },
    "kernelspec": {
      "name": "python3",
      "display_name": "Python 3"
    },
    "nteract": {
      "version": "0.12.3"
    },
    "language_info": {
      "name": "python"
    }
  },
  "cells": [
    {
      "cell_type": "code",
      "metadata": {
        "id": "V58rxea0HqSa",
        "colab": {
          "base_uri": "https://localhost:8080/"
        },
        "outputId": "cb7fdd4e-914d-4723-f71b-8d1bbf585f48"
      },
      "source": [
        "import os\n",
        "# Find the latest version of spark 3.0 from http://www.apache.org/dist/spark/ and enter as the spark version\n",
        "# For example:\n",
        "# spark_version = 'spark-3.0.3'\n",
        "spark_version = 'spark-3.2.1'\n",
        "os.environ['SPARK_VERSION']=spark_version\n",
        "\n",
        "# Install Spark and Java\n",
        "!apt-get update\n",
        "!apt-get install openjdk-11-jdk-headless -qq > /dev/null\n",
        "!wget -q http://www.apache.org/dist/spark/$SPARK_VERSION/$SPARK_VERSION-bin-hadoop2.7.tgz\n",
        "!tar xf $SPARK_VERSION-bin-hadoop2.7.tgz\n",
        "!pip install -q findspark\n",
        "\n",
        "# Set Environment Variables\n",
        "import os\n",
        "os.environ[\"JAVA_HOME\"] = \"/usr/lib/jvm/java-11-openjdk-amd64\"\n",
        "os.environ[\"SPARK_HOME\"] = f\"/content/{spark_version}-bin-hadoop2.7\"\n",
        "\n",
        "# Start a SparkSession\n",
        "import findspark\n",
        "findspark.init()"
      ],
      "execution_count": null,
      "outputs": [
        {
          "output_type": "stream",
          "name": "stdout",
          "text": [
            "\r0% [Working]\r            \rIgn:1 https://developer.download.nvidia.com/compute/cuda/repos/ubuntu1804/x86_64  InRelease\n",
            "\r0% [Connecting to archive.ubuntu.com] [Connecting to security.ubuntu.com] [Conn\r                                                                               \rIgn:2 https://developer.download.nvidia.com/compute/machine-learning/repos/ubuntu1804/x86_64  InRelease\n",
            "\r0% [Connecting to archive.ubuntu.com (185.125.190.36)] [Connecting to security.\r                                                                               \rGet:3 https://cloud.r-project.org/bin/linux/ubuntu bionic-cran40/ InRelease [3,626 B]\n",
            "\r0% [Connecting to archive.ubuntu.com (185.125.190.36)] [Connecting to security.\r0% [Connecting to archive.ubuntu.com (185.125.190.36)] [Connecting to security.\r                                                                               \rHit:4 https://developer.download.nvidia.com/compute/cuda/repos/ubuntu1804/x86_64  Release\n",
            "\r0% [Connecting to archive.ubuntu.com (185.125.190.36)] [Connecting to security.\r0% [3 InRelease gpgv 3,626 B] [Connecting to archive.ubuntu.com (185.125.190.36\r                                                                               \rHit:5 https://developer.download.nvidia.com/compute/machine-learning/repos/ubuntu1804/x86_64  Release\n",
            "Hit:6 http://ppa.launchpad.net/c2d4u.team/c2d4u4.0+/ubuntu bionic InRelease\n",
            "Hit:7 http://archive.ubuntu.com/ubuntu bionic InRelease\n",
            "Get:8 http://security.ubuntu.com/ubuntu bionic-security InRelease [88.7 kB]\n",
            "Get:9 http://archive.ubuntu.com/ubuntu bionic-updates InRelease [88.7 kB]\n",
            "Hit:11 http://ppa.launchpad.net/cran/libgit2/ubuntu bionic InRelease\n",
            "Hit:13 http://ppa.launchpad.net/deadsnakes/ppa/ubuntu bionic InRelease\n",
            "Get:14 http://archive.ubuntu.com/ubuntu bionic-backports InRelease [74.6 kB]\n",
            "Hit:15 http://ppa.launchpad.net/graphics-drivers/ppa/ubuntu bionic InRelease\n",
            "Fetched 256 kB in 2s (118 kB/s)\n",
            "Reading package lists... Done\n"
          ]
        }
      ]
    },
    {
      "cell_type": "code",
      "metadata": {
        "id": "_xKwTpATHqSe",
        "colab": {
          "base_uri": "https://localhost:8080/"
        },
        "outputId": "fa7aa181-1494-4736-ff60-7d43acb00cfb"
      },
      "source": [
        "# Download the Postgres driver that will allow Spark to interact with Postgres.\n",
        "!wget https://jdbc.postgresql.org/download/postgresql-42.2.16.jar"
      ],
      "execution_count": null,
      "outputs": [
        {
          "output_type": "stream",
          "name": "stdout",
          "text": [
            "--2022-04-10 05:31:21--  https://jdbc.postgresql.org/download/postgresql-42.2.16.jar\n",
            "Resolving jdbc.postgresql.org (jdbc.postgresql.org)... 72.32.157.228, 2001:4800:3e1:1::228\n",
            "Connecting to jdbc.postgresql.org (jdbc.postgresql.org)|72.32.157.228|:443... connected.\n",
            "HTTP request sent, awaiting response... 200 OK\n",
            "Length: 1002883 (979K) [application/java-archive]\n",
            "Saving to: ‘postgresql-42.2.16.jar.2’\n",
            "\n",
            "postgresql-42.2.16. 100%[===================>] 979.38K  5.91MB/s    in 0.2s    \n",
            "\n",
            "2022-04-10 05:31:21 (5.91 MB/s) - ‘postgresql-42.2.16.jar.2’ saved [1002883/1002883]\n",
            "\n"
          ]
        }
      ]
    },
    {
      "cell_type": "code",
      "metadata": {
        "id": "MMqDAjVS0KN9"
      },
      "source": [
        "from pyspark.sql import SparkSession\n",
        "spark = SparkSession.builder.appName(\"M16-Amazon-Challenge\").config(\"spark.driver.extraClassPath\",\"/content/postgresql-42.2.16.jar\").getOrCreate()"
      ],
      "execution_count": null,
      "outputs": []
    },
    {
      "cell_type": "markdown",
      "metadata": {
        "id": "cyBsySGuY-9V"
      },
      "source": [
        "### Load Amazon Data into Spark DataFrame"
      ]
    },
    {
      "cell_type": "code",
      "metadata": {
        "id": "CtCmBhQJY-9Z",
        "colab": {
          "base_uri": "https://localhost:8080/"
        },
        "outputId": "e70f1de3-65b7-4ec1-d4e3-2582c801d308"
      },
      "source": [
        "from pyspark import SparkFiles\n",
        "url = \"https://s3.amazonaws.com/amazon-reviews-pds/tsv/amazon_reviews_us_Furniture_v1_00.tsv.gz\"\n",
        "spark.sparkContext.addFile(url)\n",
        "df = spark.read.option(\"encoding\", \"UTF-8\").csv(SparkFiles.get(\"\"), sep=\"\\t\", header=True, inferSchema=True)\n",
        "df.show()"
      ],
      "execution_count": null,
      "outputs": [
        {
          "output_type": "stream",
          "name": "stdout",
          "text": [
            "+-----------+-----------+--------------+----------+--------------+--------------------+----------------+-----------+-------------+-----------+----+-----------------+--------------------+--------------------+-----------+\n",
            "|marketplace|customer_id|     review_id|product_id|product_parent|       product_title|product_category|star_rating|helpful_votes|total_votes|vine|verified_purchase|     review_headline|         review_body|review_date|\n",
            "+-----------+-----------+--------------+----------+--------------+--------------------+----------------+-----------+-------------+-----------+----+-----------------+--------------------+--------------------+-----------+\n",
            "|         US|   24509695|R3VR960AHLFKDV|B004HB5E0E|     488241329|Shoal Creek Compu...|       Furniture|          4|            0|          0|   N|                Y|... desk is very ...|This desk is very...| 2015-08-31|\n",
            "|         US|   34731776|R16LGVMFKIUT0G|B0042TNMMS|     205864445|Dorel Home Produc...|       Furniture|          5|            0|          0|   N|                Y|          Five Stars|          Great item| 2015-08-31|\n",
            "|         US|    1272331|R1AIMEEPYHMOE4|B0030MPBZ4|     124663823|Bathroom Vanity T...|       Furniture|          5|            1|          1|   N|                Y|          Five Stars|Perfect fit for m...| 2015-08-31|\n",
            "|         US|   45284262|R1892CCSZWZ9SR|B005G02ESA|     382367578|Sleep Master Ulti...|       Furniture|          3|            0|          0|   N|                Y|         Good enough|We use this on a ...| 2015-08-31|\n",
            "|         US|   30003523|R285P679YWVKD1|B005JS8AUA|     309497463|1 1/4\" GashGuards...|       Furniture|          3|            0|          0|   N|                N|Gash Gards for da...|The product is fi...| 2015-08-31|\n",
            "|         US|   18311821| RLB33HJBXHZHU|B00AVUQQGQ|     574537906|Serta Bonded Leat...|       Furniture|          5|            0|          0|   N|                Y|          Five Stars|Love this product...| 2015-08-31|\n",
            "|         US|   42943632|R1VGTZ94DBAD6A|B00CFY20GQ|     407473883|Prepac Shoe Stora...|       Furniture|          5|            2|          2|   N|                Y|   I love this bench|I love this bench...| 2015-08-31|\n",
            "|         US|   43157304|R168KF82ICSOHD|B00FKC48QA|     435120460|HomCom PU Leather...|       Furniture|          5|            0|          0|   N|                Y|Great storage cap...|Have had this for...| 2015-08-31|\n",
            "|         US|   51918480|R20DIYIJ0OCMOG|B00N9IAL9K|     356495985|  Folding Step Stool|       Furniture|          5|            0|          0|   N|                Y|This is the best ...|This is the best ...| 2015-08-31|\n",
            "|         US|   14522766| RD46RNVOHNZSC|B001T4XU1C|     243050228|Ace Bayou Adult V...|       Furniture|          5|            0|          0|   N|                Y|    great for price!|    my son loves it!| 2015-08-31|\n",
            "|         US|   43054112|R2JDOCETTM3AXS|B002HRFLBC|      93574483|4D Concepts Audio...|       Furniture|          5|            0|          0|   N|                Y|          Five Stars|       Great product| 2015-08-31|\n",
            "|         US|   26622950|R33YMW36IDZ6LE|B006MISZOC|     941823468|Zinus SC-SBBK-14N...|       Furniture|          5|            0|          0|   N|                Y|             perfect|bought with sleep...| 2015-08-31|\n",
            "|         US|   17988940|R30ZGGUHZ04C1S|B008BMGABC|     460567746|Poundex Marble Di...|       Furniture|          5|            1|          1|   N|                Y|   Very satisfied!!!|Delivery was on t...| 2015-08-31|\n",
            "|         US|   18444952| RS2EZU76IK2BT|B00CO2VH5Y|     829613894|Safavieh Lyndhurs...|       Furniture|          5|            0|          0|   N|                Y|soft and great fo...|Exactly as pictur...| 2015-08-31|\n",
            "|         US|   16937084|R1GJC1BP028XO9|B00LI4RJQ0|     816478187|Sauder Boone Moun...|       Furniture|          5|            2|          3|   N|                Y|        Great table.|Beautiful table. ...| 2015-08-31|\n",
            "|         US|   23665632|R2VKJPGXXEK5GP|B0046EC1D0|     358594389|Winsome Wood Brea...|       Furniture|          1|            0|          0|   N|                Y|Not what I expect...|I have cleaned up...| 2015-08-31|\n",
            "|         US|    4110125|R17KS83G3KLT97|B00DQQPL36|     312571325|HODEDAH IMPORT Me...|       Furniture|          3|            0|          0|   N|                Y|         Three Stars|First one came in...| 2015-08-31|\n",
            "|         US|     107621|R3PQL8SR4NEHWL|B003X7RWB2|     402665054|Flash Furniture H...|       Furniture|          4|            0|          0|   N|                Y|          Four Stars|Good deal to get ...| 2015-08-31|\n",
            "|         US|    2415090|R2F5WW7WNO5RRG|B001TJYPJ8|     854989315|Sleep Revolution ...|       Furniture|          5|            0|          0|   N|                Y|          Five Stars|Comfortable and e...| 2015-08-31|\n",
            "|         US|   48285966|R3UDJKVWQCFIC9|B000TMHX9A|     814079288|Flash Furniture V...|       Furniture|          5|            0|          0|   N|                Y|Very comfortable....|As advertised. Ve...| 2015-08-31|\n",
            "+-----------+-----------+--------------+----------+--------------+--------------------+----------------+-----------+-------------+-----------+----+-----------------+--------------------+--------------------+-----------+\n",
            "only showing top 20 rows\n",
            "\n"
          ]
        }
      ]
    },
    {
      "cell_type": "markdown",
      "metadata": {
        "id": "2yUSe55VY-9t"
      },
      "source": [
        "### Create Vine DataFrame"
      ]
    },
    {
      "cell_type": "code",
      "metadata": {
        "id": "lzMmkdKmY--D",
        "colab": {
          "base_uri": "https://localhost:8080/"
        },
        "outputId": "188d27f6-36c7-408a-d9e7-e0e2c6d135ac"
      },
      "source": [
        "# Create the vine_table. DataFrame\n",
        "vine_df = df.select([\"review_id\",\"star_rating\", \"helpful_votes\",\"total_votes\",\"vine\",\"verified_purchase\"])\n",
        "vine_df.show()"
      ],
      "execution_count": null,
      "outputs": [
        {
          "output_type": "stream",
          "name": "stdout",
          "text": [
            "+--------------+-----------+-------------+-----------+----+-----------------+\n",
            "|     review_id|star_rating|helpful_votes|total_votes|vine|verified_purchase|\n",
            "+--------------+-----------+-------------+-----------+----+-----------------+\n",
            "|R3VR960AHLFKDV|          4|            0|          0|   N|                Y|\n",
            "|R16LGVMFKIUT0G|          5|            0|          0|   N|                Y|\n",
            "|R1AIMEEPYHMOE4|          5|            1|          1|   N|                Y|\n",
            "|R1892CCSZWZ9SR|          3|            0|          0|   N|                Y|\n",
            "|R285P679YWVKD1|          3|            0|          0|   N|                N|\n",
            "| RLB33HJBXHZHU|          5|            0|          0|   N|                Y|\n",
            "|R1VGTZ94DBAD6A|          5|            2|          2|   N|                Y|\n",
            "|R168KF82ICSOHD|          5|            0|          0|   N|                Y|\n",
            "|R20DIYIJ0OCMOG|          5|            0|          0|   N|                Y|\n",
            "| RD46RNVOHNZSC|          5|            0|          0|   N|                Y|\n",
            "|R2JDOCETTM3AXS|          5|            0|          0|   N|                Y|\n",
            "|R33YMW36IDZ6LE|          5|            0|          0|   N|                Y|\n",
            "|R30ZGGUHZ04C1S|          5|            1|          1|   N|                Y|\n",
            "| RS2EZU76IK2BT|          5|            0|          0|   N|                Y|\n",
            "|R1GJC1BP028XO9|          5|            2|          3|   N|                Y|\n",
            "|R2VKJPGXXEK5GP|          1|            0|          0|   N|                Y|\n",
            "|R17KS83G3KLT97|          3|            0|          0|   N|                Y|\n",
            "|R3PQL8SR4NEHWL|          4|            0|          0|   N|                Y|\n",
            "|R2F5WW7WNO5RRG|          5|            0|          0|   N|                Y|\n",
            "|R3UDJKVWQCFIC9|          5|            0|          0|   N|                Y|\n",
            "+--------------+-----------+-------------+-----------+----+-----------------+\n",
            "only showing top 20 rows\n",
            "\n"
          ]
        }
      ]
    },
    {
      "cell_type": "markdown",
      "source": [
        "# Deliverable 2"
      ],
      "metadata": {
        "id": "l9rhlG79YeOU"
      }
    },
    {
      "cell_type": "code",
      "source": [
        "# Filter by price on certain columns\n",
        "total_votes_df=vine_df.filter(\"total_votes>=20\")\n",
        "total_votes_df.show()"
      ],
      "metadata": {
        "id": "AwhaVbrnYHpV",
        "colab": {
          "base_uri": "https://localhost:8080/"
        },
        "outputId": "eaa049c9-c086-46bc-9b6f-858570982ef2"
      },
      "execution_count": 80,
      "outputs": [
        {
          "output_type": "stream",
          "name": "stdout",
          "text": [
            "+--------------+-----------+-------------+-----------+----+-----------------+\n",
            "|     review_id|star_rating|helpful_votes|total_votes|vine|verified_purchase|\n",
            "+--------------+-----------+-------------+-----------+----+-----------------+\n",
            "| RL8D0KJ0J9L0O|          5|          152|        165|   N|                Y|\n",
            "|R1BEINAIQFBRJC|          5|           21|         23|   N|                Y|\n",
            "|R2L59KIJH302P9|          4|           26|         26|   N|                Y|\n",
            "| RR99CPG695T0I|          5|          215|        248|   N|                N|\n",
            "|R1XQNKKUPCMWVO|          5|           43|         44|   N|                Y|\n",
            "|R3JUXVCT1NSK2A|          3|           25|         26|   N|                Y|\n",
            "|R3GNSIFV1J2Y2B|          1|           15|         60|   N|                N|\n",
            "| RTCRZARYY4LXX|          5|           52|         54|   N|                Y|\n",
            "|R3OFB4P7Y8WR27|          1|           15|         26|   N|                Y|\n",
            "|R3MTAYGQM25N63|          4|           58|         59|   N|                Y|\n",
            "| RJNDSWES5ISZ7|          5|           78|         79|   N|                Y|\n",
            "|R15R7STOZZP2A4|          5|           33|         34|   N|                Y|\n",
            "|R33V5WV529NK8E|          4|           30|         32|   N|                Y|\n",
            "| RIR9ZI3L80P7P|          3|           72|         76|   N|                N|\n",
            "|R10P6SDC1D6C3I|          5|           23|         25|   N|                Y|\n",
            "|R110G9UVLI2MLS|          5|           52|         55|   N|                Y|\n",
            "|R1I4LN1WR3YVJX|          1|           31|         40|   N|                Y|\n",
            "|R1B76MPCS05UX9|          5|           19|         21|   N|                Y|\n",
            "|R17PJIKAZ3U6BG|          5|           21|         21|   N|                Y|\n",
            "|R2T3TLCX42RWLY|          5|           46|         48|   N|                Y|\n",
            "+--------------+-----------+-------------+-----------+----+-----------------+\n",
            "only showing top 20 rows\n",
            "\n"
          ]
        }
      ]
    },
    {
      "cell_type": "code",
      "source": [
        "# Filter by price on certain columns\n",
        "help50_df=total_votes_df.filter(\"(helpful_votes/total_votes)>=0.5\")\n",
        "help50_df.show()"
      ],
      "metadata": {
        "colab": {
          "base_uri": "https://localhost:8080/"
        },
        "id": "bBQa4MIPlrDN",
        "outputId": "6c7fdaa5-ce5d-450f-ce09-05eea57028d3"
      },
      "execution_count": 82,
      "outputs": [
        {
          "output_type": "stream",
          "name": "stdout",
          "text": [
            "+--------------+-----------+-------------+-----------+----+-----------------+\n",
            "|     review_id|star_rating|helpful_votes|total_votes|vine|verified_purchase|\n",
            "+--------------+-----------+-------------+-----------+----+-----------------+\n",
            "| RL8D0KJ0J9L0O|          5|          152|        165|   N|                Y|\n",
            "|R1BEINAIQFBRJC|          5|           21|         23|   N|                Y|\n",
            "|R2L59KIJH302P9|          4|           26|         26|   N|                Y|\n",
            "| RR99CPG695T0I|          5|          215|        248|   N|                N|\n",
            "|R1XQNKKUPCMWVO|          5|           43|         44|   N|                Y|\n",
            "|R3JUXVCT1NSK2A|          3|           25|         26|   N|                Y|\n",
            "| RTCRZARYY4LXX|          5|           52|         54|   N|                Y|\n",
            "|R3OFB4P7Y8WR27|          1|           15|         26|   N|                Y|\n",
            "|R3MTAYGQM25N63|          4|           58|         59|   N|                Y|\n",
            "| RJNDSWES5ISZ7|          5|           78|         79|   N|                Y|\n",
            "|R15R7STOZZP2A4|          5|           33|         34|   N|                Y|\n",
            "|R33V5WV529NK8E|          4|           30|         32|   N|                Y|\n",
            "| RIR9ZI3L80P7P|          3|           72|         76|   N|                N|\n",
            "|R10P6SDC1D6C3I|          5|           23|         25|   N|                Y|\n",
            "|R110G9UVLI2MLS|          5|           52|         55|   N|                Y|\n",
            "|R1I4LN1WR3YVJX|          1|           31|         40|   N|                Y|\n",
            "|R1B76MPCS05UX9|          5|           19|         21|   N|                Y|\n",
            "|R17PJIKAZ3U6BG|          5|           21|         21|   N|                Y|\n",
            "|R2T3TLCX42RWLY|          5|           46|         48|   N|                Y|\n",
            "|R39YWJ09ZCPW7P|          5|           24|         28|   N|                Y|\n",
            "+--------------+-----------+-------------+-----------+----+-----------------+\n",
            "only showing top 20 rows\n",
            "\n"
          ]
        }
      ]
    },
    {
      "cell_type": "code",
      "source": [
        "paid_df=help50_df.filter(\"vine == 'Y'\")\n",
        "paid_df.show()"
      ],
      "metadata": {
        "colab": {
          "base_uri": "https://localhost:8080/"
        },
        "id": "mXX-mMmjsXWi",
        "outputId": "01f84b0f-4c2b-40e5-ed56-7383ef913ae6"
      },
      "execution_count": 83,
      "outputs": [
        {
          "output_type": "stream",
          "name": "stdout",
          "text": [
            "+--------------+-----------+-------------+-----------+----+-----------------+\n",
            "|     review_id|star_rating|helpful_votes|total_votes|vine|verified_purchase|\n",
            "+--------------+-----------+-------------+-----------+----+-----------------+\n",
            "|R2BQOD1R0228FN|          3|           17|         26|   Y|                N|\n",
            "| RC31RUPFOHBHQ|          4|          102|        117|   Y|                N|\n",
            "| REN3N1WITLF1Y|          5|           33|         37|   Y|                N|\n",
            "| R71RZQ9UZVG47|          4|           38|         47|   Y|                N|\n",
            "|R38NMQBH88HLM6|          4|           18|         24|   Y|                N|\n",
            "|R33FGX9EE3QVR6|          4|           26|         26|   Y|                N|\n",
            "|R1KIOIK6WEYE59|          3|           19|         20|   Y|                N|\n",
            "|R25X9BMOB3FD0E|          4|           32|         37|   Y|                N|\n",
            "|R3VCKFCX2377Q2|          4|           95|        101|   Y|                N|\n",
            "|R1E0OUG63HMSM4|          3|           58|         61|   Y|                N|\n",
            "|R1V45RUW5ZB3LS|          4|           19|         21|   Y|                N|\n",
            "| RTF6DSZ1UTLHH|          5|          401|        418|   Y|                N|\n",
            "|R1CZV9N2YLJAP7|          5|          123|        136|   Y|                Y|\n",
            "|R1OF3X9W99Y300|          4|           27|         35|   Y|                N|\n",
            "|R1JYKEH4CQVJ1B|          5|           22|         23|   Y|                N|\n",
            "|R1093XVB0H2QOL|          4|           51|         54|   Y|                N|\n",
            "|R3Q81B31F1CPGH|          3|           50|         55|   Y|                N|\n",
            "|R2P6XIZZPJF7AE|          5|           46|         51|   Y|                N|\n",
            "|R3N5S06UW5MKFE|          3|          907|        925|   Y|                N|\n",
            "|R3J9EJCVKFCRWO|          5|           18|         20|   Y|                N|\n",
            "+--------------+-----------+-------------+-----------+----+-----------------+\n",
            "only showing top 20 rows\n",
            "\n"
          ]
        }
      ]
    },
    {
      "cell_type": "code",
      "source": [
        "nonpaid_df=help50_df.filter(\"vine == 'N'\")\n",
        "nonpaid_df.show()"
      ],
      "metadata": {
        "colab": {
          "base_uri": "https://localhost:8080/"
        },
        "id": "JJdc3HeRtiln",
        "outputId": "a7a59609-f36c-41c3-9948-cdac56f0d80f"
      },
      "execution_count": 84,
      "outputs": [
        {
          "output_type": "stream",
          "name": "stdout",
          "text": [
            "+--------------+-----------+-------------+-----------+----+-----------------+\n",
            "|     review_id|star_rating|helpful_votes|total_votes|vine|verified_purchase|\n",
            "+--------------+-----------+-------------+-----------+----+-----------------+\n",
            "| RL8D0KJ0J9L0O|          5|          152|        165|   N|                Y|\n",
            "|R1BEINAIQFBRJC|          5|           21|         23|   N|                Y|\n",
            "|R2L59KIJH302P9|          4|           26|         26|   N|                Y|\n",
            "| RR99CPG695T0I|          5|          215|        248|   N|                N|\n",
            "|R1XQNKKUPCMWVO|          5|           43|         44|   N|                Y|\n",
            "|R3JUXVCT1NSK2A|          3|           25|         26|   N|                Y|\n",
            "| RTCRZARYY4LXX|          5|           52|         54|   N|                Y|\n",
            "|R3OFB4P7Y8WR27|          1|           15|         26|   N|                Y|\n",
            "|R3MTAYGQM25N63|          4|           58|         59|   N|                Y|\n",
            "| RJNDSWES5ISZ7|          5|           78|         79|   N|                Y|\n",
            "|R15R7STOZZP2A4|          5|           33|         34|   N|                Y|\n",
            "|R33V5WV529NK8E|          4|           30|         32|   N|                Y|\n",
            "| RIR9ZI3L80P7P|          3|           72|         76|   N|                N|\n",
            "|R10P6SDC1D6C3I|          5|           23|         25|   N|                Y|\n",
            "|R110G9UVLI2MLS|          5|           52|         55|   N|                Y|\n",
            "|R1I4LN1WR3YVJX|          1|           31|         40|   N|                Y|\n",
            "|R1B76MPCS05UX9|          5|           19|         21|   N|                Y|\n",
            "|R17PJIKAZ3U6BG|          5|           21|         21|   N|                Y|\n",
            "|R2T3TLCX42RWLY|          5|           46|         48|   N|                Y|\n",
            "|R39YWJ09ZCPW7P|          5|           24|         28|   N|                Y|\n",
            "+--------------+-----------+-------------+-----------+----+-----------------+\n",
            "only showing top 20 rows\n",
            "\n"
          ]
        }
      ]
    },
    {
      "cell_type": "code",
      "source": [
        "df.count()\n"
      ],
      "metadata": {
        "id": "oa8ZvF2nt3VF",
        "colab": {
          "base_uri": "https://localhost:8080/"
        },
        "outputId": "ee6a225e-ecc6-43dd-fa13-2ad4aa3af549"
      },
      "execution_count": 85,
      "outputs": [
        {
          "output_type": "execute_result",
          "data": {
            "text/plain": [
              "792113"
            ]
          },
          "metadata": {},
          "execution_count": 85
        }
      ]
    },
    {
      "cell_type": "code",
      "source": [
        "total_votes_df.count()"
      ],
      "metadata": {
        "colab": {
          "base_uri": "https://localhost:8080/"
        },
        "id": "7CrXMBvT-kxL",
        "outputId": "d73a6153-ac5f-48ec-e31c-f000638a257a"
      },
      "execution_count": 86,
      "outputs": [
        {
          "output_type": "execute_result",
          "data": {
            "text/plain": [
              "18739"
            ]
          },
          "metadata": {},
          "execution_count": 86
        }
      ]
    },
    {
      "cell_type": "code",
      "source": [
        "help50_df.count()"
      ],
      "metadata": {
        "id": "HaNwmcrR-qbp",
        "colab": {
          "base_uri": "https://localhost:8080/"
        },
        "outputId": "d949e9ca-e1ba-4814-a0f6-e7fc6a495f28"
      },
      "execution_count": 87,
      "outputs": [
        {
          "output_type": "execute_result",
          "data": {
            "text/plain": [
              "18155"
            ]
          },
          "metadata": {},
          "execution_count": 87
        }
      ]
    },
    {
      "cell_type": "code",
      "source": [
        "total_reviews_count=help50_df.count()\n",
        "total_reviews_count"
      ],
      "metadata": {
        "colab": {
          "base_uri": "https://localhost:8080/"
        },
        "id": "xAEf-J1EDF24",
        "outputId": "21ace752-5c12-41c8-885c-8e2f288e0609"
      },
      "execution_count": 102,
      "outputs": [
        {
          "output_type": "execute_result",
          "data": {
            "text/plain": [
              "18155"
            ]
          },
          "metadata": {},
          "execution_count": 102
        }
      ]
    },
    {
      "cell_type": "code",
      "source": [
        "paid_reviews_count=paid_df.count()\n",
        "paid_reviews_count"
      ],
      "metadata": {
        "colab": {
          "base_uri": "https://localhost:8080/"
        },
        "id": "FjrlHQmiulLS",
        "outputId": "ccba5cf4-fbc2-450c-d312-f47d00fd1c36"
      },
      "execution_count": 88,
      "outputs": [
        {
          "output_type": "execute_result",
          "data": {
            "text/plain": [
              "136"
            ]
          },
          "metadata": {},
          "execution_count": 88
        }
      ]
    },
    {
      "cell_type": "code",
      "source": [
        "nonpaid_reviews_count=nonpaid_df.count()\n",
        "nonpaid_reviews_count"
      ],
      "metadata": {
        "id": "Db7qSDcxvTFB",
        "colab": {
          "base_uri": "https://localhost:8080/"
        },
        "outputId": "2789af79-1643-43f1-fde6-b9859cfa8bd2"
      },
      "execution_count": 89,
      "outputs": [
        {
          "output_type": "execute_result",
          "data": {
            "text/plain": [
              "18019"
            ]
          },
          "metadata": {},
          "execution_count": 89
        }
      ]
    },
    {
      "cell_type": "code",
      "source": [
        "five_all_count=help50_df.filter(\"star_rating == 5\").count()\n",
        "five_all_count"
      ],
      "metadata": {
        "id": "v0V0Ktgw8_2C",
        "colab": {
          "base_uri": "https://localhost:8080/"
        },
        "outputId": "0f335479-c50a-4683-86bd-cd62b8af7b45"
      },
      "execution_count": 93,
      "outputs": [
        {
          "output_type": "execute_result",
          "data": {
            "text/plain": [
              "8556"
            ]
          },
          "metadata": {},
          "execution_count": 93
        }
      ]
    },
    {
      "cell_type": "code",
      "source": [
        "five_paid_count=paid_df.filter(\"star_rating == 5\").count()\n",
        "five_paid_count"
      ],
      "metadata": {
        "colab": {
          "base_uri": "https://localhost:8080/"
        },
        "id": "_fVZQls2B_hV",
        "outputId": "682e2de2-bbbb-43b7-f0ae-2266c3385f6d"
      },
      "execution_count": 94,
      "outputs": [
        {
          "output_type": "execute_result",
          "data": {
            "text/plain": [
              "74"
            ]
          },
          "metadata": {},
          "execution_count": 94
        }
      ]
    },
    {
      "cell_type": "code",
      "source": [
        "five_nonpaid_count=nonpaid_df.filter(\"star_rating == 5\").count()\n",
        "five_nonpaid_count"
      ],
      "metadata": {
        "colab": {
          "base_uri": "https://localhost:8080/"
        },
        "id": "d-btFasDCUqr",
        "outputId": "a57b3d7c-ca6a-461a-ae44-d3c438e4dbfe"
      },
      "execution_count": 96,
      "outputs": [
        {
          "output_type": "execute_result",
          "data": {
            "text/plain": [
              "8482"
            ]
          },
          "metadata": {},
          "execution_count": 96
        }
      ]
    },
    {
      "cell_type": "code",
      "source": [
        "percent_all=(five_all_count/total_reviews_count)*100\n",
        "percent_all"
      ],
      "metadata": {
        "colab": {
          "base_uri": "https://localhost:8080/"
        },
        "id": "jG7QHcJDCY_K",
        "outputId": "e96940d3-6d25-48df-9571-b41b4e5940c6"
      },
      "execution_count": 104,
      "outputs": [
        {
          "output_type": "execute_result",
          "data": {
            "text/plain": [
              "47.12751308179565"
            ]
          },
          "metadata": {},
          "execution_count": 104
        }
      ]
    },
    {
      "cell_type": "code",
      "source": [
        "percent_paid=(five_paid_count/paid_reviews_count)*100\n",
        "percent_paid"
      ],
      "metadata": {
        "colab": {
          "base_uri": "https://localhost:8080/"
        },
        "id": "IzzcbWjqCoZA",
        "outputId": "f6e46f8d-3cf1-414a-8988-65b0ee3d5a77"
      },
      "execution_count": 105,
      "outputs": [
        {
          "output_type": "execute_result",
          "data": {
            "text/plain": [
              "54.41176470588235"
            ]
          },
          "metadata": {},
          "execution_count": 105
        }
      ]
    },
    {
      "cell_type": "code",
      "source": [
        "percent_nonpaid=(five_nonpaid_count/nonpaid_reviews_count)*100\n",
        "percent_nonpaid"
      ],
      "metadata": {
        "colab": {
          "base_uri": "https://localhost:8080/"
        },
        "id": "BngEuNvXDnsl",
        "outputId": "bcbe2b84-17a0-4992-c87d-a76fdcd13722"
      },
      "execution_count": 106,
      "outputs": [
        {
          "output_type": "execute_result",
          "data": {
            "text/plain": [
              "47.072534546867196"
            ]
          },
          "metadata": {},
          "execution_count": 106
        }
      ]
    },
    {
      "cell_type": "code",
      "source": [
        "import pandas as pd\n",
        "summary_df = pd.DataFrame({\n",
        "    \"Total Reviews\" : total_reviews_count,\n",
        "    \"Paid Reviews\" : paid_reviews_count,\n",
        "    \"Non Paid Reviews\" : nonpaid_reviews_count,\n",
        "    \"5-Star Total Reviews\" : five_all_count,\n",
        "    \"5-Star Paid Reviews\" : five_paid_count,\n",
        "    \"5-Star Non Paid Reviews\" : five_nonpaid_count,\n",
        "    \"% 5-Star Total\" : percent_all,\n",
        "    \"% 5-Star Paid\" : percent_paid,\n",
        "    \"% 5-Star Non Paid\" : percent_nonpaid}, index=[0])\n",
        "\n",
        "df = spark.createDataFrame(summary_df)\n",
        "df.show()"
      ],
      "metadata": {
        "colab": {
          "base_uri": "https://localhost:8080/"
        },
        "id": "itbi6cafDtsa",
        "outputId": "a904b96b-2fcf-4ec0-e668-7364cc6c0df6"
      },
      "execution_count": 109,
      "outputs": [
        {
          "output_type": "stream",
          "name": "stdout",
          "text": [
            "+-------------+------------+----------------+--------------------+-------------------+-----------------------+-----------------+-----------------+------------------+\n",
            "|Total Reviews|Paid Reviews|Non Paid Reviews|5-Star Total Reviews|5-Star Paid Reviews|5-Star Non Paid Reviews|   % 5-Star Total|    % 5-Star Paid| % 5-Star Non Paid|\n",
            "+-------------+------------+----------------+--------------------+-------------------+-----------------------+-----------------+-----------------+------------------+\n",
            "|        18155|         136|           18019|                8556|                 74|                   8482|47.12751308179565|54.41176470588235|47.072534546867196|\n",
            "+-------------+------------+----------------+--------------------+-------------------+-----------------------+-----------------+-----------------+------------------+\n",
            "\n"
          ]
        }
      ]
    },
    {
      "cell_type": "code",
      "source": [
        ""
      ],
      "metadata": {
        "id": "2zG2NS-vEOQ3"
      },
      "execution_count": null,
      "outputs": []
    }
  ]
}